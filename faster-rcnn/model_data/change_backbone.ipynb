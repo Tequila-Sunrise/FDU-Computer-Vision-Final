{
 "cells": [
  {
   "cell_type": "code",
   "execution_count": 1,
   "metadata": {},
   "outputs": [],
   "source": [
    "import torch"
   ]
  },
  {
   "cell_type": "code",
   "execution_count": 2,
   "metadata": {},
   "outputs": [],
   "source": [
    "model_random = torch.load('../logs/last_epoch_weights.pth')\n",
    "model_baseline = torch.load('mask_rcnn_pretrained.pth')"
   ]
  },
  {
   "cell_type": "code",
   "execution_count": 3,
   "metadata": {},
   "outputs": [],
   "source": [
    "model_random['extractor.0.weight'] = model_baseline['state_dict']['backbone.conv1.weight'].to('cuda')\n",
    "model_random['extractor.1.weight'] = model_baseline['state_dict']['backbone.bn1.weight'].to('cuda')\n",
    "model_random['extractor.1.bias'] = model_baseline['state_dict']['backbone.bn1.bias'].to('cuda')\n",
    "model_random['extractor.1.running_mean'] = model_baseline['state_dict']['backbone.bn1.running_mean'].to('cuda')\n",
    "model_random['extractor.1.running_var'] = model_baseline['state_dict']['backbone.bn1.running_var'].to('cuda')\n",
    "model_random['extractor.1.num_batches_tracked'] = model_baseline['state_dict']['backbone.bn1.num_batches_tracked'].to('cuda')"
   ]
  },
  {
   "cell_type": "code",
   "execution_count": 4,
   "metadata": {},
   "outputs": [],
   "source": [
    "for i in range(1, 4):\n",
    "    for key in model_random:\n",
    "        if key[0:11] != 'extractor.'+str(i+3):\n",
    "            continue\n",
    "        key_backbone = 'backbone.layer'+str(i)+key[11:]\n",
    "\n",
    "        assert model_random[key].shape == model_baseline['state_dict'][key_backbone].shape\n",
    "        model_random[key] = model_baseline['state_dict'][key_backbone].to('cuda')"
   ]
  },
  {
   "cell_type": "code",
   "execution_count": 6,
   "metadata": {},
   "outputs": [],
   "source": [
    "torch.save(model_random, 'coco_pretrained_backbone.pth')"
   ]
  },
  {
   "cell_type": "code",
   "execution_count": null,
   "metadata": {},
   "outputs": [],
   "source": []
  }
 ],
 "metadata": {
  "interpreter": {
   "hash": "2f394aca7ca06fed1e6064aef884364492d7cdda3614a461e02e6407fc40ba69"
  },
  "kernelspec": {
   "display_name": "Python 3.8.10 ('base')",
   "language": "python",
   "name": "python3"
  },
  "language_info": {
   "codemirror_mode": {
    "name": "ipython",
    "version": 3
   },
   "file_extension": ".py",
   "mimetype": "text/x-python",
   "name": "python",
   "nbconvert_exporter": "python",
   "pygments_lexer": "ipython3",
   "version": "3.8.10"
  },
  "orig_nbformat": 4
 },
 "nbformat": 4,
 "nbformat_minor": 2
}
